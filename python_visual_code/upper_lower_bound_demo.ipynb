{
 "cells": [
  {
   "cell_type": "markdown",
   "metadata": {},
   "source": [
    "# Problem Definition"
   ]
  },
  {
   "cell_type": "markdown",
   "metadata": {},
   "source": [
    "Given product dataset $D$, \n",
    "\n",
    "user dataset $W$. \n",
    "\n",
    "A product $p$'s score corresponding to a user $w$ is the dot product $p\\cdot w$. \n",
    "\n",
    "If a product $p$ ranks top-k respecting to user $w$, then $p$ covers $w$. \n",
    "\n",
    "Create a product that maximize the cover ratio of users under the constrain $C(p)\\leq B$,\n",
    "\n",
    "where $C(p)=\\Sigma p[i]$."
   ]
  },
  {
   "cell_type": "markdown",
   "metadata": {},
   "source": [
    "# Assuming we are solving a 2d problem"
   ]
  },
  {
   "cell_type": "markdown",
   "metadata": {},
   "source": [
    "# Preprocessing"
   ]
  },
  {
   "cell_type": "markdown",
   "metadata": {},
   "source": [
    "\n",
    "Suppose $S_{ik}$ means the $i_{th}$ score of user $w_i$,\n",
    "\n",
    "$p$ needs to satisfy $w_i\\cdot p\\ge S_{ik}$ in order to cover $w_i$. \n",
    "\n",
    "Lemma 1:\n",
    "\n",
    "only consider C(p)=B as candidate space\n",
    "\n",
    "Lemma 2:\n",
    "\n",
    "Before $CellTree$ insertion, remove users that $w_i\\cdot p=S_{ik}$ doesn't intersect with $C(p)=B$ (i.e., remove purple and red lines)"
   ]
  },
  {
   "cell_type": "code",
   "execution_count": 19,
   "metadata": {},
   "outputs": [
    {
     "data": {
      "image/png": "[encoded data removed]",
      "text/plain": [
       "<Figure size 432x288 with 1 Axes>"
      ]
     },
     "metadata": {
      "needs_background": "light"
     },
     "output_type": "display_data"
    }
   ],
   "source": [
    "intersect_exam()"
   ]
  },
  {
   "cell_type": "code",
   "execution_count": 34,
   "metadata": {},
   "outputs": [
    {
     "data": {
      "image/png": "[encoded data removed]",
      "text/plain": [
       "<Figure size 432x288 with 1 Axes>"
      ]
     },
     "metadata": {
      "needs_background": "light"
     },
     "output_type": "display_data"
    }
   ],
   "source": [
    "w_1=[0.9, 0.1]\n",
    "w_2=[0.8, 0.2]\n",
    "w_3=[0.1, 0.9]\n",
    "# w_4=[0.2, 0.8]\n",
    "w_5=[0.3, 0.7]\n",
    "ws=[w_1, w_2, w_3, w_4, w_5]\n",
    "\n",
    "S_iks=[0.2, 0.7, 0.6, 0.5, 0.4]\n",
    "plot_halfspace(ws, S_iks)"
   ]
  },
  {
   "cell_type": "markdown",
   "metadata": {},
   "source": [
    "# 上下界的定义"
   ]
  },
  {
   "cell_type": "markdown",
   "metadata": {},
   "source": [
    "在我们这个问题里， 要返回那个cover用户数目最多的product region\n",
    "\n",
    "Cell Tree的每个cell 都代表某个product区域\n",
    "\n",
    "cell的上界就是指对于这个cell的任意product都应该覆盖不多于“上界”个用户\n",
    "\n",
    "cell的下界就是指对于这个cell， 至少存在一个product覆盖的用户数大于或等于\"下界\"个用户\n",
    "\n",
    "而事实上我们可以把$h_i^+$看作一个cell\n",
    "\n",
    "$h_i^+$的上下界与cell的上下界定义相同\n"
   ]
  },
  {
   "cell_type": "markdown",
   "metadata": {},
   "source": [
    "Lemma i1:\n",
    "\n",
    "我们问题要找的是最优解， 最优解所在叶节点设其为$Cell_{opt}$\n",
    "\n",
    "假如最优解在"
   ]
  },
  {
   "cell_type": "code",
   "execution_count": 53,
   "metadata": {},
   "outputs": [],
   "source": [
    "import matplotlib.pyplot as plt\n",
    "import numpy as np\n",
    "\n",
    "\n",
    "def plot_user(user, save=False, fn='', format='pdf'):\n",
    "    fig, ax = plt.subplots()\n",
    "    user_a = np.array(user).T\n",
    "    ax.scatter(user_a[0], user_a[1])\n",
    "    ax.set(xlim=(0, 1), ylim=(0, 1))\n",
    "    ax.set_aspect('equal', 'box')\n",
    "    ax.set_xlabel('p[1]')\n",
    "    ax.set_ylabel('p[2]')\n",
    "    if save:\n",
    "        plt.savefig(fn + '.'+format, format=format, bbox_inches='tight')\n",
    "        plot_user(user)\n",
    "    else:\n",
    "        plt.show()\n",
    "\n",
    "\n",
    "def plot_pdt(pdt, save=False, fn='', format='pdf'):\n",
    "    plot_user(pdt, save, fn, format)\n",
    "\n",
    "\n",
    "def plot_halfspace(r, c, save=False, fn='', format='pdf'):\n",
    "    fig, ax = plt.subplots()\n",
    "    ax.set_xlabel('p[1]')\n",
    "    ax.set_ylabel('p[2]')\n",
    "    ax.set(xlim=(0, 1), ylim=(0, 1))\n",
    "    ax.set_aspect('equal', 'box')\n",
    "    ax.plot([0, 1], [1, 0], c='black', label=r'C(p)=B')\n",
    "#     ax.annotate(\"\", xy=(0.5, 0.5), xytext=(0, 0), arrowprops=dict(arrowstyle=\"->\"))\n",
    "    for i in range(len(r)):\n",
    "        row = r[i]\n",
    "        if row[0] == 0 or row[1] == 0:\n",
    "            continue\n",
    "        ax.plot([c[i] / row[0], 0], [0, c[i] / row[1]], label=r'$w_'+r'%d'%(i+1)+r'\\cdot p=S_{'+r'%d'%(i+1)+r'}$')\n",
    "    ax.legend(\n",
    "loc='lower left', bbox_to_anchor= (0.0, 1.01), ncol=2,\n",
    "            borderaxespad=0, frameon=False\n",
    "    )\n",
    "    if save:\n",
    "        plt.savefig(fn + '.'+format, format=format, bbox_inches='tight')\n",
    "        plot_halfspace(r, c)\n",
    "    else:\n",
    "        plt.show()\n",
    "\n",
    "\n",
    "def plot_pdt_hs(pdt, pdt_p, pdt_c, r, c, covered=set(), save=False, fn='', format='pdf'):\n",
    "    fig, ax = plt.subplots()\n",
    "    ax.set(xlim=(0, 1), ylim=(0, 1))\n",
    "    ax.set_aspect('equal', 'box')\n",
    "    ax.set_xlabel('p[1]')\n",
    "    ax.set_ylabel('p[2]')\n",
    "    for i in range(len(r)):\n",
    "        row = r[i]\n",
    "        if row[0] == 0 or row[1] == 0:\n",
    "            continue\n",
    "        if i in covered:\n",
    "            ax.plot([c[i] / row[0], 0], [0, c[i] / row[1]], alpha=0.2, c='cyan')\n",
    "        else:\n",
    "            ax.plot([c[i] / row[0], 0], [0, c[i] / row[1]],  alpha=0.2, c='orange')\n",
    "    pdtT = pdt.T\n",
    "    ax.scatter(pdtT[0], pdtT[1], c='grey', s=10)\n",
    "    ax.scatter(pdt[pdt_p, 0], pdt[pdt_p, 1], c='blue', s=10)\n",
    "    ax.scatter(pdt[pdt_c, 0], pdt[pdt_c, 1], c='red', s=30)\n",
    "    if save:\n",
    "        plt.savefig(fn + '.'+format, format=format, bbox_inches='tight')\n",
    "        plot_pdt_hs(pdt, pdt_p, pdt_c, r, c, covered)\n",
    "    else:\n",
    "        plt.show()\n",
    "\n",
    "\n",
    "def plot_pdt_inter_hs(r, c, cost, B, inter=set(), save=False, fn='', format='pdf'):\n",
    "    fig, ax = plt.subplots()\n",
    "    ax.set_xlabel('p[1]')\n",
    "    ax.set_ylabel('p[2]')\n",
    "    ax.set(xlim=(0, 1), ylim=(0, 1))\n",
    "    ax.set_aspect('equal', 'box')\n",
    "    ax.plot([B / cost[0], 0], [0, B / cost[1]], c='black', linewidth=3)\n",
    "    for i in range(len(r)):\n",
    "        row = r[i]\n",
    "        if row[0] == 0 or row[1] == 0:\n",
    "            continue\n",
    "        if i in inter:\n",
    "            ax.plot([c[i] / row[0], 0], [0, c[i] / row[1]], alpha=0.3, c='orange')\n",
    "        else:\n",
    "            ax.plot([c[i] / row[0], 0], [0, c[i] / row[1]], alpha=0.3, c='cyan')\n",
    "    if save:\n",
    "        plt.savefig(fn + '.'+format, format=format, bbox_inches='tight')\n",
    "        plot_pdt_inter_hs(r, c, cost, B, inter)\n",
    "    else:\n",
    "        plt.show()\n",
    "\n",
    "\n",
    "def plot_inters(inter_cnt, save=False, fn='', format='pdf'):\n",
    "    fig, ax = plt.subplots()\n",
    "    ax.set_xlabel('B')\n",
    "    ax.set_ylabel('Intersect halfspaces')\n",
    "    tmp = np.array(inter_cnt).T\n",
    "    x = [1 + i / 10 for i in range(10)]\n",
    "    labels = ['uniform', 'anti', 'corr']\n",
    "    style = ['bo-', 'y^-', 'rP-']\n",
    "\n",
    "    for i in range(tmp.shape[0]):\n",
    "        ax.plot(x, tmp[i], style[i], label=labels[i], mfc='none')\n",
    "    # ax.set_yscale('log')\n",
    "    ax.legend()\n",
    "    if save:\n",
    "        plt.savefig(fn + '.'+format, format=format)\n",
    "        plot_inters(inter_cnt, save=False)\n",
    "    else:\n",
    "        plt.show()\n",
    "\n",
    "def plot_halfspace3(r, save=False, fn='', format='svg'):\n",
    "\n",
    "    fig, ax = plt.subplots()\n",
    "    ax.set_xlabel(r'$p[1]$', fontsize=18)\n",
    "    ax.set_ylabel(r'$p[2]$', fontsize=18)\n",
    "    ax.set(xlim=(0, 1), ylim=(0, 1))\n",
    "    ax.set_aspect('equal', 'box')\n",
    "    c=['r','black',  'g', 'm']\n",
    "    for i in range(len(r)):\n",
    "        row = r[i]\n",
    "        if i==0:\n",
    "            label=r'$w_1\\cdot p=S_{1k}$'\n",
    "        if i==1:\n",
    "            label=r'$w_2\\cdot p=S_{2k}$'\n",
    "        if i==2:\n",
    "            label=r'$w_3\\cdot p=S_{3k}$'\n",
    "        ax.plot(row[0], row[1], c=c[i], label=label)\n",
    "    ax.plot([0, 1],[1, 0], c='black',zorder=105)\n",
    "    ax.tick_params('x', labelsize=18)\n",
    "    ax.tick_params('y', labelsize=18)\n",
    "    plt.title('Lemma 2 example', fontsize=20)\n",
    "#     ax.legend()\n",
    "    if save:\n",
    "        plt.savefig(fn + '.'+format, format=format, bbox_inches='tight')\n",
    "#         plot_halfspace(r, c)\n",
    "    else:\n",
    "        plt.show()\n",
    "def intersect_exam():\n",
    "    row=[\n",
    "    [[0, .4], [.2, 0]],\n",
    "    [[1, 0], [0, 1]],\n",
    "    [[.7, .9], [1, 0]],\n",
    "    [[.8, 1], [1, .8]]\n",
    "    ]\n",
    "    plot_halfspace3(row, save=False, fn='inter2d', format='svg')\n"
   ]
  },
  {
   "cell_type": "code",
   "execution_count": 45,
   "metadata": {},
   "outputs": [
    {
     "data": {
      "image/png": "[encoded data removed]",
      "text/plain": [
       "<Figure size 432x288 with 1 Axes>"
      ]
     },
     "metadata": {
      "needs_background": "light"
     },
     "output_type": "display_data"
    }
   ],
   "source": [
    "import numpy as np \n",
    "import matplotlib.pyplot as plt\n",
    "\n",
    "X = np.array([[1,1], [2,2.5], [3, 1], [8, 7.5], [7, 9], [9, 9]])\n",
    "Y = ['red', 'red', 'red', 'blue', 'blue', 'blue']\n",
    "\n",
    "plt.figure()\n",
    "plt.scatter(X[:, 0], X[:, 1],s=0, color = Y[:])\n",
    "\n",
    "t1 = plt.Polygon(X[:3,:], color=Y[0])\n",
    "plt.gca().add_patch(t1)\n",
    "\n",
    "t2 = plt.Polygon(X[3:6,:], color=Y[3])\n",
    "plt.gca().add_patch(t2)\n",
    "\n",
    "plt.show()"
   ]
  },
  {
   "cell_type": "code",
   "execution_count": 40,
   "metadata": {},
   "outputs": [
    {
     "ename": "ValueError",
     "evalue": "mask array must have same length as triangles array",
     "output_type": "error",
     "traceback": [
      "\u001b[1;31m---------------------------------------------------------------------------\u001b[0m",
      "\u001b[1;31mValueError\u001b[0m                                Traceback (most recent call last)",
      "\u001b[1;32m<ipython-input-40-552d6596de26>\u001b[0m in \u001b[0;36m<module>\u001b[1;34m\u001b[0m\n\u001b[0;32m      1\u001b[0m \u001b[0mfig\u001b[0m\u001b[1;33m,\u001b[0m \u001b[0max\u001b[0m \u001b[1;33m=\u001b[0m \u001b[0mplt\u001b[0m\u001b[1;33m.\u001b[0m\u001b[0msubplots\u001b[0m\u001b[1;33m(\u001b[0m\u001b[1;33m)\u001b[0m\u001b[1;33m\u001b[0m\u001b[1;33m\u001b[0m\u001b[0m\n\u001b[1;32m----> 2\u001b[1;33m \u001b[0max\u001b[0m\u001b[1;33m.\u001b[0m\u001b[0mtriplot\u001b[0m\u001b[1;33m(\u001b[0m\u001b[1;33m[\u001b[0m\u001b[1;36m0\u001b[0m\u001b[1;33m,\u001b[0m \u001b[1;36m0\u001b[0m\u001b[1;33m,\u001b[0m \u001b[1;36m1\u001b[0m\u001b[1;33m]\u001b[0m\u001b[1;33m,\u001b[0m \u001b[1;33m[\u001b[0m\u001b[1;36m0\u001b[0m\u001b[1;33m,\u001b[0m \u001b[1;36m1\u001b[0m\u001b[1;33m,\u001b[0m \u001b[1;36m0\u001b[0m\u001b[1;33m]\u001b[0m\u001b[1;33m,\u001b[0m \u001b[0mmask\u001b[0m\u001b[1;33m=\u001b[0m\u001b[1;32mTrue\u001b[0m\u001b[1;33m)\u001b[0m\u001b[1;33m\u001b[0m\u001b[1;33m\u001b[0m\u001b[0m\n\u001b[0m\u001b[0;32m      3\u001b[0m \u001b[0mplt\u001b[0m\u001b[1;33m.\u001b[0m\u001b[0mshow\u001b[0m\u001b[1;33m(\u001b[0m\u001b[1;33m)\u001b[0m\u001b[1;33m\u001b[0m\u001b[1;33m\u001b[0m\u001b[0m\n",
      "\u001b[1;32mC:\\anacondaanzhuang\\lib\\site-packages\\matplotlib\\tri\\triplot.py\u001b[0m in \u001b[0;36mtriplot\u001b[1;34m(ax, *args, **kwargs)\u001b[0m\n\u001b[0;32m     38\u001b[0m     \u001b[1;32mimport\u001b[0m \u001b[0mmatplotlib\u001b[0m\u001b[1;33m.\u001b[0m\u001b[0maxes\u001b[0m\u001b[1;33m\u001b[0m\u001b[1;33m\u001b[0m\u001b[0m\n\u001b[0;32m     39\u001b[0m \u001b[1;33m\u001b[0m\u001b[0m\n\u001b[1;32m---> 40\u001b[1;33m     \u001b[0mtri\u001b[0m\u001b[1;33m,\u001b[0m \u001b[0margs\u001b[0m\u001b[1;33m,\u001b[0m \u001b[0mkwargs\u001b[0m \u001b[1;33m=\u001b[0m \u001b[0mTriangulation\u001b[0m\u001b[1;33m.\u001b[0m\u001b[0mget_from_args_and_kwargs\u001b[0m\u001b[1;33m(\u001b[0m\u001b[1;33m*\u001b[0m\u001b[0margs\u001b[0m\u001b[1;33m,\u001b[0m \u001b[1;33m**\u001b[0m\u001b[0mkwargs\u001b[0m\u001b[1;33m)\u001b[0m\u001b[1;33m\u001b[0m\u001b[1;33m\u001b[0m\u001b[0m\n\u001b[0m\u001b[0;32m     41\u001b[0m     \u001b[0mx\u001b[0m\u001b[1;33m,\u001b[0m \u001b[0my\u001b[0m\u001b[1;33m,\u001b[0m \u001b[0medges\u001b[0m \u001b[1;33m=\u001b[0m \u001b[1;33m(\u001b[0m\u001b[0mtri\u001b[0m\u001b[1;33m.\u001b[0m\u001b[0mx\u001b[0m\u001b[1;33m,\u001b[0m \u001b[0mtri\u001b[0m\u001b[1;33m.\u001b[0m\u001b[0my\u001b[0m\u001b[1;33m,\u001b[0m \u001b[0mtri\u001b[0m\u001b[1;33m.\u001b[0m\u001b[0medges\u001b[0m\u001b[1;33m)\u001b[0m\u001b[1;33m\u001b[0m\u001b[1;33m\u001b[0m\u001b[0m\n\u001b[0;32m     42\u001b[0m \u001b[1;33m\u001b[0m\u001b[0m\n",
      "\u001b[1;32mC:\\anacondaanzhuang\\lib\\site-packages\\matplotlib\\tri\\triangulation.py\u001b[0m in \u001b[0;36mget_from_args_and_kwargs\u001b[1;34m(*args, **kwargs)\u001b[0m\n\u001b[0;32m    165\u001b[0m             \u001b[0mmask\u001b[0m \u001b[1;33m=\u001b[0m \u001b[0mkwargs\u001b[0m\u001b[1;33m.\u001b[0m\u001b[0mpop\u001b[0m\u001b[1;33m(\u001b[0m\u001b[1;34m'mask'\u001b[0m\u001b[1;33m,\u001b[0m \u001b[1;32mNone\u001b[0m\u001b[1;33m)\u001b[0m\u001b[1;33m\u001b[0m\u001b[1;33m\u001b[0m\u001b[0m\n\u001b[0;32m    166\u001b[0m \u001b[1;33m\u001b[0m\u001b[0m\n\u001b[1;32m--> 167\u001b[1;33m             \u001b[0mtriangulation\u001b[0m \u001b[1;33m=\u001b[0m \u001b[0mTriangulation\u001b[0m\u001b[1;33m(\u001b[0m\u001b[0mx\u001b[0m\u001b[1;33m,\u001b[0m \u001b[0my\u001b[0m\u001b[1;33m,\u001b[0m \u001b[0mtriangles\u001b[0m\u001b[1;33m,\u001b[0m \u001b[0mmask\u001b[0m\u001b[1;33m)\u001b[0m\u001b[1;33m\u001b[0m\u001b[1;33m\u001b[0m\u001b[0m\n\u001b[0m\u001b[0;32m    168\u001b[0m         \u001b[1;32mreturn\u001b[0m \u001b[0mtriangulation\u001b[0m\u001b[1;33m,\u001b[0m \u001b[0margs\u001b[0m\u001b[1;33m,\u001b[0m \u001b[0mkwargs\u001b[0m\u001b[1;33m\u001b[0m\u001b[1;33m\u001b[0m\u001b[0m\n\u001b[0;32m    169\u001b[0m \u001b[1;33m\u001b[0m\u001b[0m\n",
      "\u001b[1;32mC:\\anacondaanzhuang\\lib\\site-packages\\matplotlib\\tri\\triangulation.py\u001b[0m in \u001b[0;36m__init__\u001b[1;34m(self, x, y, triangles, mask)\u001b[0m\n\u001b[0;32m     68\u001b[0m             \u001b[0mself\u001b[0m\u001b[1;33m.\u001b[0m\u001b[0mmask\u001b[0m \u001b[1;33m=\u001b[0m \u001b[0mnp\u001b[0m\u001b[1;33m.\u001b[0m\u001b[0masarray\u001b[0m\u001b[1;33m(\u001b[0m\u001b[0mmask\u001b[0m\u001b[1;33m,\u001b[0m \u001b[0mdtype\u001b[0m\u001b[1;33m=\u001b[0m\u001b[0mbool\u001b[0m\u001b[1;33m)\u001b[0m\u001b[1;33m\u001b[0m\u001b[1;33m\u001b[0m\u001b[0m\n\u001b[0;32m     69\u001b[0m             \u001b[1;32mif\u001b[0m \u001b[0mself\u001b[0m\u001b[1;33m.\u001b[0m\u001b[0mmask\u001b[0m\u001b[1;33m.\u001b[0m\u001b[0mshape\u001b[0m \u001b[1;33m!=\u001b[0m \u001b[1;33m(\u001b[0m\u001b[0mself\u001b[0m\u001b[1;33m.\u001b[0m\u001b[0mtriangles\u001b[0m\u001b[1;33m.\u001b[0m\u001b[0mshape\u001b[0m\u001b[1;33m[\u001b[0m\u001b[1;36m0\u001b[0m\u001b[1;33m]\u001b[0m\u001b[1;33m,\u001b[0m\u001b[1;33m)\u001b[0m\u001b[1;33m:\u001b[0m\u001b[1;33m\u001b[0m\u001b[1;33m\u001b[0m\u001b[0m\n\u001b[1;32m---> 70\u001b[1;33m                 raise ValueError('mask array must have same length as '\n\u001b[0m\u001b[0;32m     71\u001b[0m                                  'triangles array')\n\u001b[0;32m     72\u001b[0m \u001b[1;33m\u001b[0m\u001b[0m\n",
      "\u001b[1;31mValueError\u001b[0m: mask array must have same length as triangles array"
     ]
    },
    {
     "data": {
      "image/png": "[encoded data removed]",
      "text/plain": [
       "<Figure size 432x288 with 1 Axes>"
      ]
     },
     "metadata": {
      "needs_background": "light"
     },
     "output_type": "display_data"
    }
   ],
   "source": []
  },
  {
   "cell_type": "code",
   "execution_count": 56,
   "metadata": {},
   "outputs": [
    {
     "data": {
      "image/png": "[encoded data removed]",
      "text/plain": [
       "<Figure size 432x288 with 1 Axes>"
      ]
     },
     "metadata": {
      "needs_background": "light"
     },
     "output_type": "display_data"
    },
    {
     "data": {
      "image/png": "[encoded data removed]",
      "text/plain": [
       "<Figure size 432x288 with 1 Axes>"
      ]
     },
     "metadata": {
      "needs_background": "light"
     },
     "output_type": "display_data"
    }
   ],
   "source": [
    "w_1=[0.9, 0.1]\n",
    "w_2=[0.8, 0.2]\n",
    "w_3=[0.1, 0.9]\n",
    "# w_4=[0.2, 0.8]\n",
    "w_5=[0.3, 0.7]\n",
    "# ws=[w_1, w_2, w_3, w_4, w_5]\n",
    "ws=[w_2, w_1, w_3, w_5]\n",
    "\n",
    "S_iks=[0.5, 0.2, 0.6, 0.4]\n",
    "plot_halfspace(ws, S_iks, save=True, fn='L7_edmo', format='svg')"
   ]
  },
  {
   "cell_type": "code",
   "execution_count": null,
   "metadata": {},
   "outputs": [],
   "source": []
  }
 ],
 "metadata": {
  "kernelspec": {
   "display_name": "Python 3",
   "language": "python",
   "name": "python3"
  },
  "language_info": {
   "codemirror_mode": {
    "name": "ipython",
    "version": 3
   },
   "file_extension": ".py",
   "mimetype": "text/x-python",
   "name": "python",
   "nbconvert_exporter": "python",
   "pygments_lexer": "ipython3",
   "version": "3.7.4"
  }
 },
 "nbformat": 4,
 "nbformat_minor": 2
}
