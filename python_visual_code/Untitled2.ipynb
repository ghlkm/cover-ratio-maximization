{
 "cells": [
  {
   "cell_type": "code",
   "execution_count": 1,
   "metadata": {},
   "outputs": [
    {
     "ename": "NameError",
     "evalue": "name 'gen_user_uni' is not defined",
     "output_type": "error",
     "traceback": [
      "\u001b[1;31m---------------------------------------------------------------------------\u001b[0m",
      "\u001b[1;31mNameError\u001b[0m                                 Traceback (most recent call last)",
      "\u001b[1;32m<ipython-input-1-59b750164ad3>\u001b[0m in \u001b[0;36m<module>\u001b[1;34m\u001b[0m\n\u001b[0;32m     10\u001b[0m     \u001b[1;32mpass\u001b[0m\u001b[1;33m\u001b[0m\u001b[1;33m\u001b[0m\u001b[0m\n\u001b[0;32m     11\u001b[0m \u001b[1;33m\u001b[0m\u001b[0m\n\u001b[1;32m---> 12\u001b[1;33m \u001b[0muser\u001b[0m\u001b[1;33m=\u001b[0m\u001b[0mgen_user_uni\u001b[0m\u001b[1;33m(\u001b[0m\u001b[1;36m100\u001b[0m\u001b[1;33m,\u001b[0m \u001b[1;36m2\u001b[0m\u001b[1;33m)\u001b[0m\u001b[1;33m\u001b[0m\u001b[1;33m\u001b[0m\u001b[0m\n\u001b[0m\u001b[0;32m     13\u001b[0m \u001b[0mpdt_uni\u001b[0m\u001b[1;33m=\u001b[0m\u001b[0mget_pdt_uni\u001b[0m\u001b[1;33m(\u001b[0m\u001b[1;36m10000\u001b[0m\u001b[1;33m,\u001b[0m \u001b[1;36m2\u001b[0m\u001b[1;33m)\u001b[0m\u001b[1;33m\u001b[0m\u001b[1;33m\u001b[0m\u001b[0m\n\u001b[0;32m     14\u001b[0m \u001b[0mpdt_anti\u001b[0m\u001b[1;33m=\u001b[0m\u001b[0mget_pdt_anti\u001b[0m\u001b[1;33m(\u001b[0m\u001b[1;36m10000\u001b[0m\u001b[1;33m,\u001b[0m \u001b[1;36m2\u001b[0m\u001b[1;33m)\u001b[0m\u001b[1;33m\u001b[0m\u001b[1;33m\u001b[0m\u001b[0m\n",
      "\u001b[1;31mNameError\u001b[0m: name 'gen_user_uni' is not defined"
     ]
    }
   ],
   "source": [
    "def get_user_uni(n, d):\n",
    "    pass\n",
    "def get_pdt_uni(n, d):\n",
    "    pass\n",
    "def get_pdt_anti(n, d):\n",
    "    pass\n",
    "def get_pdt_corr(n, d):\n",
    "    pass\n",
    "def plot_user(user):\n",
    "    pass\n",
    "\n",
    "user=gen_user_uni(100, 2)\n",
    "pdt_uni=get_pdt_uni(10000, 2)\n",
    "pdt_anti=get_pdt_anti(10000, 2)\n",
    "pdt_corr=get_pdt_corr(10000, 2)\n",
    "plot_user(user)\n",
    "plot_pdt(pdt_uni)\n",
    "plot_pdt(pdt_anti)\n",
    "plot_pdt(pdt_corr)\n",
    "sk_uni=get_sk(user, pdt_uni, k)\n",
    "sk_anti=get_sk(user, pdt_anti, k)\n",
    "sk_corr=get_sk(user, pdt_corr, k)\n",
    "\n",
    "plot_halfspace(user, sk_uni)\n",
    "plot_halfspace(user, sk_anti)\n",
    "plot_halfspace(user, sk_corr)\n",
    "\n",
    "pdt_pset=sample(n, num)\n",
    "user_uni, sk_uni=remove_covered(pdt_pset, user, sk_uni)\n",
    "user_anti,sk_anti=remove_covered(pdt_pset, user, sk_anti)\n",
    "user_corr,sk_corr=remove_covered(pdt_pset, user, sk_corr)\n",
    "plot_halfspace(user_uni, sk_uni)\n",
    "plot_halfspace(user_anti, sk_anti)\n",
    "plot_halfspace(user_corr, sk_corr)\n",
    "\n",
    "user_uni2, sk_uni2= remove_unintersect(user_uni, sk_uni, constrain, B)\n",
    "user_anti2,sk_anti2= remove_unintersect(user_anti, sk_anti, constrain, B)\n",
    "user_corr2,sk_corr2= remove_unintersect(user_corr, sk_corr, constrain, B)\n",
    "\n",
    "plot_halfspace(user_uni2, sk_uni2)\n",
    "plot_halfspace(user_anti2, sk_anti2)\n",
    "plot_halfspace(user_corr2, sk_corr2)\n"
   ]
  },
  {
   "cell_type": "code",
   "execution_count": 10,
   "metadata": {},
   "outputs": [
    {
     "name": "stdout",
     "output_type": "stream",
     "text": [
      "True\n"
     ]
    }
   ],
   "source": [
    "# solve with SciPy\n",
    "from scipy.optimize import linprog\n",
    "c = [1, 1]\n",
    "A = [[1, 1], [1, -1]]\n",
    "b = [1, 0]\n",
    "x0_bounds = (0, 1)\n",
    "x1_bounds = (0, 1)\n",
    "res = linprog(c, A_eq=A, b_eq=b, \\\n",
    "              bounds=(x0_bounds, x1_bounds),\n",
    "              options={\"disp\": False})\n",
    "print(res.success)"
   ]
  },
  {
   "cell_type": "code",
   "execution_count": null,
   "metadata": {},
   "outputs": [],
   "source": [
    "import numpy as np\n",
    "import random as r\n",
    "uniform_=r.random\n",
    "gauss_=r.gauss\n",
    "def uniform():\n",
    "    return uniform_(0, 1)\n",
    "def gauss():\n",
    "    ret=-1\n",
    "    while ret<0 or ret>1:\n",
    "        ret=gauss_(.5, 0.15)\n",
    "    return ret"
   ]
  },
  {
   "cell_type": "code",
   "execution_count": null,
   "metadata": {},
   "outputs": [],
   "source": [
    "\n",
    "def sample_point_uni(d, b=1.0):\n",
    "    left=b\n",
    "    ret=[]\n",
    "    for i in range(d-1):\n",
    "        tmp=(1-(uniform(0, 1))**(1/(d-i-1)))\n",
    "        ret.append(left*tmp)\n",
    "        left-=ret[-1]\n",
    "    ret.append(left)\n",
    "    return ret\n",
    "def get_user_uni(n, d):\n",
    "    ret =[sample_point_uni(d) for _ in range(n)]\n",
    "    return ret\n",
    "def get_pdt_uni(n, d):\n",
    "    ret=[]\n",
    "    for i in range(n):\n",
    "        ret.append([uniform() for _ in range(d)])\n",
    "def get_pdt_anti(n, d):\n",
    "    ret =[sample_point_uni(d) for _ in range(n)]\n",
    "def get_pdt_corr(n, d):\n",
    "    \n",
    "def plot_user(user):\n",
    "    pass"
   ]
  }
 ],
 "metadata": {
  "kernelspec": {
   "display_name": "Python 3",
   "language": "python",
   "name": "python3"
  },
  "language_info": {
   "codemirror_mode": {
    "name": "ipython",
    "version": 3
   },
   "file_extension": ".py",
   "mimetype": "text/x-python",
   "name": "python",
   "nbconvert_exporter": "python",
   "pygments_lexer": "ipython3",
   "version": "3.7.4"
  }
 },
 "nbformat": 4,
 "nbformat_minor": 2
}
